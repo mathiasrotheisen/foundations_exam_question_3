{
 "cells": [
  {
   "cell_type": "markdown",
   "metadata": {},
   "source": [
    "# Question 1"
   ]
  },
  {
   "cell_type": "markdown",
   "metadata": {},
   "source": [
    "### Question 1.a"
   ]
  },
  {
   "cell_type": "code",
   "execution_count": 2,
   "metadata": {},
   "outputs": [
    {
     "name": "stdout",
     "output_type": "stream",
     "text": [
      "[[1. 2.]\n",
      " [5. 5.]]\n"
     ]
    }
   ],
   "source": [
    "import numpy as np\n",
    "    \n",
    "    # Add error handling to everything\n",
    "class Snumpy:\n",
    "    def ones(x):\n",
    "        return np.ones((x), dtype=np.int16)\n",
    "    \n",
    "    def zeros(x):\n",
    "        return np.zeros((x), dtype=np.int16)\n",
    "    \n",
    "    # Should this function be able to take an array of any random combination of numbers?\n",
    "    def reshape(x, y):\n",
    "        a = np.arange(x)\n",
    "        return a.reshape(y[0], y[1])\n",
    "    \n",
    "    # Get back to this one\n",
    "    def shape(x):\n",
    "        x = np.arange(x)\n",
    "        print(x.shape)\n",
    "        # x = x.reshape\n",
    "        # x = map(tuple, x)\n",
    "        # print(tuple(x))\n",
    "        # return tuple(x)\n",
    "        \n",
    "    def append(x, y):\n",
    "        try: \n",
    "            return np.concatenate((x, y))\n",
    "        except:\n",
    "            return print(\"Dimensions must match\")\n",
    "    \n",
    "    #Add out of bounds error handling    \n",
    "    def get(x, y):\n",
    "        try:\n",
    "            return x[y[0], y[1]]\n",
    "        except:\n",
    "            return print(\"Coordinates are out of bound of the vector/matrix\")\n",
    "        \n",
    "    def add(x, y):\n",
    "        return x + y\n",
    "    \n",
    "    def subtract(x, y):\n",
    "        return x - y\n",
    "    \n",
    "    def dot(x, y):\n",
    "        return np.dot(x, y)\n",
    "        \n",
    "        \n",
    "        \n",
    "        \n",
    "\n",
    "\n",
    "# Answer to question 1\n",
    "# print(Snumpy.ones(5))\n",
    "\n",
    "# Answer to question 2\n",
    "# print(Snumpy.zeros(5))\n",
    "\n",
    "# Answer to question 3\n",
    "# print(Snumpy.reshape(12, (4,3)))\n",
    "\n",
    "# Answer to question 4\n",
    "# print(Snumpy.shape(5))\n",
    "\n",
    "# Answer to question 5\n",
    "a = np.matrix('1.0 2.0')\n",
    "b = np.matrix('5.0 5.0')\n",
    "print(Snumpy.append(a, b))\n",
    "\n",
    "# Answer to question 6\n",
    "# x = np.matrix('1.0 2.0 3.0; 4.0 5.0 6.0; 7.0 8.0 9.0')\n",
    "# y = (0, 2)\n",
    "# print(Snumpy.get(x, y))\n",
    "\n",
    "# Answer to question 7\n",
    "# x = np.matrix('1.0 2.0 3.0')\n",
    "# y = np.matrix('4.0 5.0 6.0')\n",
    "# print(Snumpy.add(x, y))\n",
    "\n",
    "# Answer to question 8\n",
    "# x = np.matrix('1.0 2.0 3.0')\n",
    "# y = np.matrix('4.0 5.0 6.0')\n",
    "# print(Snumpy.subtract(x, y))\n",
    "\n",
    "# Answer to question 9\n",
    "# x = np.matrix('1.0 2.0 3.0')\n",
    "# y = np.matrix('4.0; 5.0; 6.0')\n",
    "# print(Snumpy.dot(x, y))"
   ]
  },
  {
   "cell_type": "code",
   "execution_count": 43,
   "metadata": {},
   "outputs": [
    {
     "name": "stdout",
     "output_type": "stream",
     "text": [
      "[[1]\n",
      " [0]\n",
      " [1]\n",
      " [1]]\n"
     ]
    }
   ],
   "source": [
    "import numpy as np\n",
    "\n",
    "# HERE STARTS 2.1\n",
    "\n",
    "# Input 4-bit string\n",
    "x = np.matrix('1 0 1 1')\n",
    "# Hamming's Generator Matrix\n",
    "y = np.matrix('1 1 0 1; 1 0 1 1; 1 0 0 0; 0 1 1 1; 0 1 0 0; 0 0 1 0; 0 0 0 1')\n",
    "\n",
    "# Multiplying both matrices\n",
    "z = np.multiply(y,x)\n",
    "\n",
    "\n",
    "# Summing both matrices\n",
    "w = z.sum(axis=1)\n",
    "\n",
    "# Finding mod 2 to end up with transmitted matrix\n",
    "t = np.mod(w, 2)\n",
    "\n",
    "# Parity check matrix\n",
    "parityCheck = np.matrix('1 0 1 0 1 0 1; 0 1 1 0 0 1 1; 0 0 0 1 1 1 1')\n",
    "\n",
    "parityCheckZ = np.dot(parityCheck, t)\n",
    "\n",
    "result = np.mod(parityCheckZ, 2)\n",
    "\n",
    "# print(result)\n",
    "\n",
    "# HERE STARTS 2.2\n",
    "\n",
    "# Define decoder matrix\n",
    "decoderMatrix = np.matrix('0 0 1 0 0 0 0; 0 0 0 0 1 0 0; 0 0 0 0 0 1 0; 0 0 0 0 0 0 1')\n",
    "\n",
    "# Decode transmitted string t\n",
    "decodedDotProduct = np.dot(decoderMatrix, t)\n",
    "\n",
    "print(decodedDotProduct)"
   ]
  },
  {
   "cell_type": "code",
   "execution_count": 47,
   "metadata": {},
   "outputs": [
    {
     "name": "stdout",
     "output_type": "stream",
     "text": [
      "[['Document 3 score', 11], ['Document 4 score', 11], ['Document 2 score', 9], ['Document 1 score', 7]]\n"
     ]
    }
   ],
   "source": [
    "import os\n",
    "import numpy as np\n",
    "from collections import OrderedDict\n",
    "import string\n",
    "\n",
    "\n",
    "def loadDocuments(targetString):\n",
    "    listOfDictionaries = []\n",
    "    \n",
    "    for filename in os.listdir('documents'):\n",
    "        dictionary = OrderedDict()\n",
    "        \n",
    "        documentString = open('documents/'+ filename).read()\n",
    "\n",
    "        listOfWords = [word.strip(string.punctuation) for word in documentString.split()]\n",
    "        \n",
    "        # Perhaps check if the values are correct\n",
    "        for n in listOfWords:\n",
    "            if (n in dictionary):\n",
    "                dictionary[n] += 1\n",
    "            else:\n",
    "                dictionary[n.lower()] = 1\n",
    "        \n",
    "        listOfDictionaries.append(dictionary)\n",
    "        \n",
    "    targetStringCounter = {}\n",
    "    targetString = [word.strip(string.punctuation).lower() for word in targetString.split()]\n",
    "    \n",
    "    for word in targetString:\n",
    "        if word not in targetStringCounter:\n",
    "            targetStringCounter[word] = 1\n",
    "        \n",
    "        else:\n",
    "            targetStringCounter[word] += 1\n",
    "        \n",
    "    listOfDictionaries.append(targetStringCounter)\n",
    "    \n",
    "    combinedDictionary = set().union(*listOfDictionaries)\n",
    "    \n",
    "    listOfVectors = []\n",
    "    for c in range(len(listOfDictionaries)):\n",
    "        vector = [listOfDictionaries[c][word] if word in listOfDictionaries[c] else 0 for word in combinedDictionary]\n",
    "        listOfVectors.append(vector)\n",
    "              \n",
    "    return listOfVectors\n",
    "\n",
    "targetString = \"Lorem ipsum dolor sit amet\"\n",
    "\n",
    "targetVector = loadDocuments(targetString)[- 1]\n",
    "dictionary = loadDocuments(targetString)[: - 1]\n",
    "\n",
    "\n",
    "\n",
    "def dotProductComparison(dictionary, targetVector):\n",
    "    finalScoresheet = []\n",
    "    i = 1\n",
    "    for v in dictionary:\n",
    "        dotproduct = sum(np.multiply(v, targetVector))\n",
    "        documentNumber = \"Document \" + str(i) +\" score\"\n",
    "        scoresheet = [documentNumber, dotproduct]\n",
    "        finalScoresheet.append(scoresheet)\n",
    "        i += 1\n",
    "    \n",
    "    def secondElement(scoresheet):\n",
    "        return scoresheet[1]\n",
    "    \n",
    "    finalScoresheet.sort(key=secondElement, reverse = True)\n",
    "    \n",
    "    return finalScoresheet\n",
    "        \n",
    "\n",
    "\n",
    "print(dotProductComparison(dictionary, targetVector))"
   ]
  },
  {
   "cell_type": "code",
   "execution_count": 23,
   "metadata": {},
   "outputs": [
    {
     "data": {
      "text/plain": [
       "50000085"
      ]
     },
     "execution_count": 23,
     "metadata": {},
     "output_type": "execute_result"
    }
   ],
   "source": []
  },
  {
   "cell_type": "code",
   "execution_count": null,
   "metadata": {},
   "outputs": [],
   "source": []
  }
 ],
 "metadata": {
  "kernelspec": {
   "display_name": "Python 3",
   "language": "python",
   "name": "python3"
  },
  "language_info": {
   "codemirror_mode": {
    "name": "ipython",
    "version": 3
   },
   "file_extension": ".py",
   "mimetype": "text/x-python",
   "name": "python",
   "nbconvert_exporter": "python",
   "pygments_lexer": "ipython3",
   "version": "3.8.3"
  }
 },
 "nbformat": 4,
 "nbformat_minor": 4
}
